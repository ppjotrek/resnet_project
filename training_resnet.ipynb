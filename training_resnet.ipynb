{
 "cells": [
  {
   "cell_type": "code",
   "execution_count": 1,
   "metadata": {},
   "outputs": [],
   "source": [
    "import torch \n",
    "from dataloader import ECG_Data, prepare_dataset\n",
    "from resnet_1d import SERes1d\n",
    "from sklearn.model_selection import train_test_split\n",
    "import numpy as np\n",
    "import matplotlib.pyplot as plt"
   ]
  },
  {
   "cell_type": "code",
   "execution_count": 9,
   "metadata": {},
   "outputs": [],
   "source": [
    "def training_loop(model:torch.nn.Module,\n",
    "                  optimizer,\n",
    "                  criterion,\n",
    "                  train_loader:torch.utils.data.DataLoader,\n",
    "                  test_loader:torch.utils.data.DataLoader,\n",
    "                  epochs:int = 100,\n",
    "                  )-> tuple :\n",
    "    \n",
    "    losses = np.array([])\n",
    "    accuracies = np.array([])\n",
    "    for epoch in range(epochs):\n",
    "        running_loss = 0.0\n",
    "        train_acc = 0.0\n",
    "        for data, label in train_loader:\n",
    "            out = model(data)\n",
    "            loss = criterion(out, label)\n",
    "            optimizer.zero_grad()\n",
    "            loss.backward()\n",
    "            optimizer.step()\n",
    "            train_acc += torch.sum(torch.sigmoid(out).argmax(dim=1) == label)\n",
    "            running_loss += loss.item()*data.size(0)\n",
    "        accuracies = np.append(accuracies,train_acc/len(train_loader.dataset))\n",
    "        losses = np.append(losses, running_loss/len(train_loader.dataset))\n",
    "        print(f'Epoch:{epoch}  Loss:{losses[epoch]}, accuracy:{accuracies[epoch]}')\n",
    "\n",
    "    return accuracies,losses\n",
    "    "
   ]
  },
  {
   "cell_type": "code",
   "execution_count": 10,
   "metadata": {},
   "outputs": [],
   "source": [
    "final_data=prepare_dataset(r\"sample_dataset/ptbxl_database.csv\")\n",
    "\n",
    "\n",
    "    #split zrobiłem sklearnem bo po co się męczyć\n",
    "ECG_train,ECG_test=train_test_split(final_data,test_size=0.2,random_state=42)\n",
    "\n",
    "    #inaczej nie działa xd\n",
    "ECG_train=ECG_train.reset_index()\n",
    "ECG_test=ECG_test.reset_index()\n",
    "    #tu ważne żeby podać ścieżkę do folderu z danymi, ale tylko folderu, bo potem to już się samo sklei\n",
    "train_dataset=ECG_Data(ECG_train, r\"sample_dataset/\")\n",
    "train_loader=torch.utils.data.DataLoader(train_dataset,batch_size=2)\n",
    "test_dataset=ECG_Data(ECG_test, r\"sample_dataset/\")\n",
    "test_loader=torch.utils.data.DataLoader(test_dataset,batch_size=2)"
   ]
  },
  {
   "cell_type": "code",
   "execution_count": 11,
   "metadata": {},
   "outputs": [],
   "source": [
    "number_of_channels=1\n",
    "number_of_classes=5\n",
    "model = SERes1d(number_of_channels,number_of_classes)"
   ]
  },
  {
   "cell_type": "code",
   "execution_count": 12,
   "metadata": {},
   "outputs": [],
   "source": [
    "criterion = torch.nn.CrossEntropyLoss()\n",
    "optimizer = torch.optim.Adam(model.parameters(), lr=0.001)\n",
    "number_of_epochs = 50"
   ]
  },
  {
   "cell_type": "code",
   "execution_count": 13,
   "metadata": {},
   "outputs": [
    {
     "name": "stdout",
     "output_type": "stream",
     "text": [
      "Epoch:0  Loss:2.2747747247869317, accuracy:0.1818181872367859\n",
      "Epoch:1  Loss:1.8079305345361882, accuracy:0.27272728085517883\n",
      "Epoch:2  Loss:1.2010981386358088, accuracy:0.5454545617103577\n",
      "Epoch:3  Loss:0.5791837193749168, accuracy:0.9090909361839294\n",
      "Epoch:4  Loss:0.3316214775497263, accuracy:1.0\n",
      "Epoch:5  Loss:0.18593797764994882, accuracy:1.0\n",
      "Epoch:6  Loss:0.11186261881481517, accuracy:1.0\n",
      "Epoch:7  Loss:0.07190340486439792, accuracy:1.0\n",
      "Epoch:8  Loss:0.04737704755230383, accuracy:1.0\n",
      "Epoch:9  Loss:0.03367783264680342, accuracy:1.0\n",
      "Epoch:10  Loss:0.026071246882731266, accuracy:1.0\n",
      "Epoch:11  Loss:0.020911827514117413, accuracy:1.0\n",
      "Epoch:12  Loss:0.017038801515644245, accuracy:1.0\n",
      "Epoch:13  Loss:0.014216794378378174, accuracy:1.0\n",
      "Epoch:14  Loss:0.012118537317622791, accuracy:1.0\n",
      "Epoch:15  Loss:0.010510102845728397, accuracy:1.0\n",
      "Epoch:16  Loss:0.00925390591675585, accuracy:1.0\n",
      "Epoch:17  Loss:0.008251790973273191, accuracy:1.0\n",
      "Epoch:18  Loss:0.007428268013014035, accuracy:1.0\n",
      "Epoch:19  Loss:0.006733175748112527, accuracy:1.0\n",
      "Epoch:20  Loss:0.0061383843421936035, accuracy:1.0\n",
      "Epoch:21  Loss:0.005624773785133253, accuracy:1.0\n",
      "Epoch:22  Loss:0.005177234934473579, accuracy:1.0\n",
      "Epoch:23  Loss:0.004784414206038822, accuracy:1.0\n",
      "Epoch:24  Loss:0.004436823751100085, accuracy:1.0\n",
      "Epoch:25  Loss:0.00412783022461967, accuracy:1.0\n",
      "Epoch:26  Loss:0.0038512540473179383, accuracy:1.0\n",
      "Epoch:27  Loss:0.003602668579498475, accuracy:1.0\n",
      "Epoch:28  Loss:0.0033783087591555986, accuracy:1.0\n",
      "Epoch:29  Loss:0.0031750529200177302, accuracy:1.0\n",
      "Epoch:30  Loss:0.0029903072440488772, accuracy:1.0\n",
      "Epoch:31  Loss:0.002821989061141556, accuracy:1.0\n",
      "Epoch:32  Loss:0.0026682241692800412, accuracy:1.0\n",
      "Epoch:33  Loss:0.0025273064701733265, accuracy:1.0\n",
      "Epoch:34  Loss:0.002397805621678179, accuracy:1.0\n",
      "Epoch:35  Loss:0.002278515730391849, accuracy:1.0\n",
      "Epoch:36  Loss:0.002168389820409092, accuracy:1.0\n",
      "Epoch:37  Loss:0.0020665525225922465, accuracy:1.0\n",
      "Epoch:38  Loss:0.0019721477292478085, accuracy:1.0\n",
      "Epoch:39  Loss:0.001884491151114079, accuracy:1.0\n",
      "Epoch:40  Loss:0.001802918257784437, accuracy:1.0\n",
      "Epoch:41  Loss:0.001726872224191373, accuracy:1.0\n",
      "Epoch:42  Loss:0.0016558492471548643, accuracy:1.0\n",
      "Epoch:43  Loss:0.0015894206642935221, accuracy:1.0\n",
      "Epoch:44  Loss:0.0015272002730687911, accuracy:1.0\n",
      "Epoch:45  Loss:0.0014688556230711665, accuracy:1.0\n",
      "Epoch:46  Loss:0.001413945531980558, accuracy:1.0\n",
      "Epoch:47  Loss:0.0013623422604392874, accuracy:1.0\n",
      "Epoch:48  Loss:0.001313658187758516, accuracy:1.0\n",
      "Epoch:49  Loss:0.001267786762169139, accuracy:1.0\n"
     ]
    }
   ],
   "source": [
    "accuracies,losses = training_loop(model,optimizer,criterion,train_loader,test_loader,number_of_epochs)"
   ]
  }
 ],
 "metadata": {
  "kernelspec": {
   "display_name": ".venv",
   "language": "python",
   "name": "python3"
  },
  "language_info": {
   "codemirror_mode": {
    "name": "ipython",
    "version": 3
   },
   "file_extension": ".py",
   "mimetype": "text/x-python",
   "name": "python",
   "nbconvert_exporter": "python",
   "pygments_lexer": "ipython3",
   "version": "3.10.12"
  }
 },
 "nbformat": 4,
 "nbformat_minor": 2
}
