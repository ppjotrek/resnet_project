{
 "cells": [
  {
   "cell_type": "code",
   "execution_count": 1,
   "metadata": {},
   "outputs": [],
   "source": [
    "import torch \n",
    "from dataloader import ECG_Data, prepare_dataset\n",
    "from resnet_1d import SERes1d\n",
    "from sklearn.model_selection import train_test_split\n",
    "import numpy as np\n",
    "import matplotlib.pyplot as plt\n",
    "import time"
   ]
  },
  {
   "cell_type": "code",
   "execution_count": 2,
   "metadata": {},
   "outputs": [
    {
     "name": "stdout",
     "output_type": "stream",
     "text": [
      "CUDA is available!\n"
     ]
    }
   ],
   "source": [
    "if torch.cuda.is_available():\n",
    "    print(\"CUDA is available!\")\n",
    "    device = torch.device(\"cuda\")  # Set device to GPU\n",
    "else:\n",
    "    print(\"CUDA is not available. Training on CPU.\")\n",
    "    device = torch.device(\"cpu\")  # Set device to CPU"
   ]
  },
  {
   "cell_type": "code",
   "execution_count": 3,
   "metadata": {},
   "outputs": [],
   "source": [
    "def training_loop(model:torch.nn.Module,\n",
    "                  optimizer,\n",
    "                  criterion,\n",
    "                  scheduler,\n",
    "                  train_loader:torch.utils.data.DataLoader,\n",
    "                  validation_loader:torch.utils.data.DataLoader,\n",
    "                  epochs:int = 100,\n",
    "                  save_path:str = None,\n",
    "                  )-> tuple :\n",
    "    \n",
    "    '''\n",
    "    Training loop for the model\n",
    "    Documentation TBA\n",
    "    TODO: Add early stopping\n",
    "    '''\n",
    "\n",
    "    train_losses = np.array([])\n",
    "    train_accuracies = np.array([])\n",
    "    val_losses = np.array([])\n",
    "    val_accuracies = np.array([])\n",
    "    best_acc = 0.0\n",
    "    for epoch in range(epochs):\n",
    "        running_loss = 0.0\n",
    "        train_acc = 0.0\n",
    "        model.train()\n",
    "        epoch_start = time.time()\n",
    "        for data, label in train_loader:\n",
    "            data = data.to(device)\n",
    "            label = label.to(device)\n",
    "            out = model(data)\n",
    "            loss = criterion(out, label)\n",
    "            optimizer.zero_grad()\n",
    "            loss.backward()\n",
    "            optimizer.step()\n",
    "            train_acc += torch.sum(torch.sigmoid(out).argmax(dim=1) == label)\n",
    "            running_loss += loss.item()*data.size(0)\n",
    "        if scheduler != None:\n",
    "            scheduler.step()\n",
    "        epoch_end = time.time()\n",
    "        train_accuracies = np.append(train_accuracies,train_acc.cpu()/len(train_loader.dataset))\n",
    "        train_losses = np.append(train_losses, running_loss/len(train_loader.dataset))\n",
    "        epoch_time = epoch_end - epoch_start\n",
    "        print(f'Epoch:{epoch}\\n-----------Training------------- \\n Loss:{train_losses[epoch]}, accuracy:{train_accuracies[epoch]}, epoch time:{epoch_time:.2f}')\n",
    "\n",
    "        model.eval()\n",
    "        val_acc = 0.0\n",
    "        val_running_loss = 0.0\n",
    "        for data,label in validation_loader:\n",
    "            data = data.to(device)\n",
    "            label = label.to(device)\n",
    "            out = model(data)\n",
    "            loss = criterion(out, label)\n",
    "            val_acc += torch.sum(torch.sigmoid(out).argmax(dim=1) == label)\n",
    "            val_running_loss += loss.item()*data.size(0)\n",
    "            if save_path is not None:\n",
    "                if val_acc > best_acc:\n",
    "                    torch.save(model.state_dict(), save_path)\n",
    "                    best_acc = val_acc\n",
    "        val_accuracies = np.append(val_accuracies,val_acc.cpu()/len(validation_loader.dataset))\n",
    "        val_losses = np.append(val_losses, val_running_loss/len(validation_loader.dataset))\n",
    "        print(f'--------------Validation -------- \\n  Loss:{val_losses[epoch]}, accuracy:{val_accuracies[epoch]}')\n",
    "\n",
    "    return (val_accuracies,val_losses),(train_accuracies,train_losses)"
   ]
  },
  {
   "cell_type": "code",
   "execution_count": 13,
   "metadata": {},
   "outputs": [],
   "source": [
    "\n",
    "# final_data=prepare_dataset(\".\\\\sample_dataset\\\\ptbxl_database.csv\")\n",
    "final_data=prepare_dataset(r\"/home/wicia/Documents/Horzyk/resnet_project/ptb-xl-a-large-publicly-available-electrocardiography-dataset-1.0.3/ptbxl_database.csv\")\n",
    "\n",
    "\n",
    "    #split zrobiłem sklearnem bo po co się męczyć\n",
    "ECG_train,ECG_test=train_test_split(final_data,test_size=0.2,random_state=42)\n",
    "\n",
    "    #inaczej nie działa xd\n",
    "ECG_train=ECG_train.reset_index()\n",
    "ECG_test=ECG_test.reset_index()\n",
    "    #tu ważne żeby podać ścieżkę do folderu z danymi, ale tylko folderu, bo potem to już się samo sklei\n",
    "train_dataset=ECG_Data(ECG_train, r\"/home/wicia/Documents/Horzyk/resnet_project/ptb-xl-a-large-publicly-available-electrocardiography-dataset-1.0.3/\", augmentation_probability=0.2, noise_probability=0.2, noise_level=0.05)\n",
    "train_loader=torch.utils.data.DataLoader(train_dataset,batch_size=256,num_workers=4)\n",
    "test_dataset=ECG_Data(ECG_test, r\"/home/wicia/Documents/Horzyk/resnet_project/ptb-xl-a-large-publicly-available-electrocardiography-dataset-1.0.3/\")\n",
    "test_loader=torch.utils.data.DataLoader(test_dataset,batch_size=256,num_workers=4)\n"
   ]
  },
  {
   "cell_type": "code",
   "execution_count": 5,
   "metadata": {},
   "outputs": [
    {
     "name": "stdout",
     "output_type": "stream",
     "text": [
      "2\n",
      "[7587. 2237. 4346.  981. 1872.  353.]\n"
     ]
    }
   ],
   "source": [
    "print(train_dataset[0][1])\n",
    "count = np.zeros(6)\n",
    "for i in range(len(train_dataset)):\n",
    "    count[train_dataset[i][1]] += 1\n",
    "print(count)"
   ]
  },
  {
   "cell_type": "code",
   "execution_count": 6,
   "metadata": {},
   "outputs": [
    {
     "name": "stdout",
     "output_type": "stream",
     "text": [
      "17376.0\n"
     ]
    }
   ],
   "source": [
    "print(np.sum(count))"
   ]
  },
  {
   "cell_type": "code",
   "execution_count": 14,
   "metadata": {},
   "outputs": [],
   "source": [
    "weights = torch.Tensor(1-(count/len(train_dataset))).to(device)"
   ]
  },
  {
   "cell_type": "code",
   "execution_count": 15,
   "metadata": {},
   "outputs": [],
   "source": [
    "number_of_channels=12\n",
    "number_of_classes=6\n",
    "model = SERes1d(number_of_channels,number_of_classes).to(device)"
   ]
  },
  {
   "cell_type": "code",
   "execution_count": 16,
   "metadata": {},
   "outputs": [],
   "source": [
    "criterion = torch.nn.CrossEntropyLoss(weight=weights)\n",
    "optimizer = torch.optim.Adam(model.parameters(), lr=0.01)\n",
    "scheduler = torch.optim.lr_scheduler.ExponentialLR(optimizer, gamma=0.9)\n",
    "number_of_epochs = 40\n"
   ]
  },
  {
   "cell_type": "code",
   "execution_count": 17,
   "metadata": {},
   "outputs": [
    {
     "name": "stdout",
     "output_type": "stream",
     "text": [
      "Epoch:0\n",
      "-----------Training------------- \n",
      " Loss:1.3290378410732768, accuracy:0.5471915006637573, epoch time:20.45\n",
      "--------------Validation -------- \n",
      "  Loss:1.1211598580274353, accuracy:0.6162523031234741\n",
      "Epoch:1\n",
      "-----------Training------------- \n",
      " Loss:1.036306373651515, accuracy:0.6513006687164307, epoch time:20.56\n",
      "--------------Validation -------- \n",
      "  Loss:0.9643225541430942, accuracy:0.6742633581161499\n",
      "Epoch:2\n",
      "-----------Training------------- \n",
      " Loss:0.9258186869858378, accuracy:0.6889963150024414, epoch time:20.70\n",
      "--------------Validation -------- \n",
      "  Loss:0.9019097145749719, accuracy:0.6933701634407043\n",
      "Epoch:3\n",
      "-----------Training------------- \n",
      " Loss:0.864566830859878, accuracy:0.7055708765983582, epoch time:20.87\n",
      "--------------Validation -------- \n",
      "  Loss:0.87341561117664, accuracy:0.7108655571937561\n",
      "Epoch:4\n",
      "-----------Training------------- \n",
      " Loss:0.8177374357676638, accuracy:0.7234116196632385, epoch time:21.30\n",
      "--------------Validation -------- \n",
      "  Loss:0.8855915668919601, accuracy:0.7053406834602356\n",
      "Epoch:5\n",
      "-----------Training------------- \n",
      " Loss:0.7964361591014195, accuracy:0.7295694947242737, epoch time:20.78\n",
      "--------------Validation -------- \n",
      "  Loss:0.828152305732994, accuracy:0.7170810103416443\n",
      "Epoch:6\n",
      "-----------Training------------- \n",
      " Loss:0.7564954586450566, accuracy:0.7406768202781677, epoch time:20.98\n",
      "--------------Validation -------- \n",
      "  Loss:0.8205515676440455, accuracy:0.7320442199707031\n",
      "Epoch:7\n",
      "-----------Training------------- \n",
      " Loss:0.7359411347636861, accuracy:0.743381679058075, epoch time:21.06\n",
      "--------------Validation -------- \n",
      "  Loss:0.8170814045445914, accuracy:0.7255985140800476\n",
      "Epoch:8\n",
      "-----------Training------------- \n",
      " Loss:0.7155972418425053, accuracy:0.7532228231430054, epoch time:20.70\n",
      "--------------Validation -------- \n",
      "  Loss:0.8034338978553126, accuracy:0.7191528677940369\n",
      "Epoch:9\n",
      "-----------Training------------- \n",
      " Loss:0.7000198110691092, accuracy:0.7609346508979797, epoch time:20.80\n",
      "--------------Validation -------- \n",
      "  Loss:0.7566479230453955, accuracy:0.7417126893997192\n",
      "Epoch:10\n",
      "-----------Training------------- \n",
      " Loss:0.6755311155407029, accuracy:0.7619705200195312, epoch time:20.92\n",
      "--------------Validation -------- \n",
      "  Loss:0.7318044398151489, accuracy:0.7453959584236145\n",
      "Epoch:11\n",
      "-----------Training------------- \n",
      " Loss:0.6601836554033761, accuracy:0.7716390490531921, epoch time:20.88\n",
      "--------------Validation -------- \n",
      "  Loss:0.7476089000701904, accuracy:0.7453959584236145\n",
      "Epoch:12\n",
      "-----------Training------------- \n",
      " Loss:0.6364849720211977, accuracy:0.7788328528404236, epoch time:20.68\n",
      "--------------Validation -------- \n",
      "  Loss:0.7325570850082523, accuracy:0.7525322437286377\n",
      "Epoch:13\n",
      "-----------Training------------- \n",
      " Loss:0.612172567054053, accuracy:0.7859691381454468, epoch time:20.66\n",
      "--------------Validation -------- \n",
      "  Loss:0.7526376617328019, accuracy:0.7493094205856323\n",
      "Epoch:14\n",
      "-----------Training------------- \n",
      " Loss:0.6029014763032973, accuracy:0.7876381278038025, epoch time:20.61\n",
      "--------------Validation -------- \n",
      "  Loss:0.7860185699348731, accuracy:0.7292817831039429\n",
      "Epoch:15\n",
      "-----------Training------------- \n",
      " Loss:0.5926779241851681, accuracy:0.7941988706588745, epoch time:20.71\n",
      "--------------Validation -------- \n",
      "  Loss:0.7660352132157946, accuracy:0.7465469837188721\n",
      "Epoch:16\n",
      "-----------Training------------- \n",
      " Loss:0.5679631050998555, accuracy:0.80064457654953, epoch time:20.67\n",
      "--------------Validation -------- \n",
      "  Loss:0.781968612697243, accuracy:0.7203038930892944\n",
      "Epoch:17\n",
      "-----------Training------------- \n",
      " Loss:0.5550773159135991, accuracy:0.8017380237579346, epoch time:20.69\n",
      "--------------Validation -------- \n",
      "  Loss:0.7793801972440154, accuracy:0.7424033284187317\n",
      "Epoch:18\n",
      "-----------Training------------- \n",
      " Loss:0.5482121665394328, accuracy:0.8055939078330994, epoch time:20.72\n",
      "--------------Validation -------- \n",
      "  Loss:0.7831301183112199, accuracy:0.7269797325134277\n",
      "Epoch:19\n",
      "-----------Training------------- \n",
      " Loss:0.5232109973004729, accuracy:0.8161256909370422, epoch time:20.69\n",
      "--------------Validation -------- \n",
      "  Loss:0.7892910122432323, accuracy:0.7281307578086853\n",
      "Epoch:20\n",
      "-----------Training------------- \n",
      " Loss:0.5063043613240644, accuracy:0.8210750222206116, epoch time:20.70\n",
      "--------------Validation -------- \n",
      "  Loss:0.7978099283812016, accuracy:0.7375690340995789\n",
      "Epoch:21\n",
      "-----------Training------------- \n",
      " Loss:0.4866616335143481, accuracy:0.8273480534553528, epoch time:21.17\n",
      "--------------Validation -------- \n",
      "  Loss:0.7977485391096955, accuracy:0.7426335215568542\n",
      "Epoch:22\n",
      "-----------Training------------- \n",
      " Loss:0.47742754989346525, accuracy:0.8306284546852112, epoch time:21.07\n",
      "--------------Validation -------- \n",
      "  Loss:0.8106927623625838, accuracy:0.75\n",
      "Epoch:23\n",
      "-----------Training------------- \n",
      " Loss:0.45457491822005636, accuracy:0.8382827043533325, epoch time:20.83\n",
      "--------------Validation -------- \n",
      "  Loss:0.7996485852404852, accuracy:0.7541436553001404\n",
      "Epoch:24\n",
      "-----------Training------------- \n",
      " Loss:0.43761856159672113, accuracy:0.843807578086853, epoch time:20.90\n",
      "--------------Validation -------- \n",
      "  Loss:0.8378308236489199, accuracy:0.7513812184333801\n",
      "Epoch:25\n",
      "-----------Training------------- \n",
      " Loss:0.4259303512384439, accuracy:0.8511740565299988, epoch time:21.01\n",
      "--------------Validation -------- \n",
      "  Loss:0.8338596180877194, accuracy:0.7513812184333801\n",
      "Epoch:26\n",
      "-----------Training------------- \n",
      " Loss:0.40557053619326805, accuracy:0.856468677520752, epoch time:21.01\n",
      "--------------Validation -------- \n",
      "  Loss:0.8640422655293516, accuracy:0.7527624368667603\n",
      "Epoch:27\n",
      "-----------Training------------- \n",
      " Loss:0.3901058062773822, accuracy:0.8615331649780273, epoch time:20.72\n",
      "--------------Validation -------- \n",
      "  Loss:0.8785323902388305, accuracy:0.7405617237091064\n",
      "Epoch:28\n",
      "-----------Training------------- \n",
      " Loss:0.377098620541627, accuracy:0.8676335215568542, epoch time:20.69\n",
      "--------------Validation -------- \n",
      "  Loss:0.9049696579822519, accuracy:0.7451657652854919\n",
      "Epoch:29\n",
      "-----------Training------------- \n",
      " Loss:0.3552412758984399, accuracy:0.875, epoch time:20.73\n",
      "--------------Validation -------- \n",
      "  Loss:0.9238644912976147, accuracy:0.7506905794143677\n",
      "Epoch:30\n",
      "-----------Training------------- \n",
      " Loss:0.340731176882159, accuracy:0.8817909955978394, epoch time:20.55\n",
      "--------------Validation -------- \n",
      "  Loss:0.9411467879077567, accuracy:0.7449355721473694\n",
      "Epoch:31\n",
      "-----------Training------------- \n",
      " Loss:0.3304938785388764, accuracy:0.8864525556564331, epoch time:20.71\n",
      "--------------Validation -------- \n",
      "  Loss:0.960386051547681, accuracy:0.7488489747047424\n",
      "Epoch:32\n",
      "-----------Training------------- \n",
      " Loss:0.30993466345425247, accuracy:0.8953153491020203, epoch time:20.69\n",
      "--------------Validation -------- \n",
      "  Loss:0.9798036462474704, accuracy:0.7539134621620178\n",
      "Epoch:33\n",
      "-----------Training------------- \n",
      " Loss:0.30135854277382457, accuracy:0.8949700593948364, epoch time:20.83\n",
      "--------------Validation -------- \n",
      "  Loss:0.9915113221874553, accuracy:0.7467771768569946\n",
      "Epoch:34\n",
      "-----------Training------------- \n",
      " Loss:0.2886798919125376, accuracy:0.9017034769058228, epoch time:20.72\n",
      "--------------Validation -------- \n",
      "  Loss:1.003870547915471, accuracy:0.7493094205856323\n",
      "Epoch:35\n",
      "-----------Training------------- \n",
      " Loss:0.267877782905958, accuracy:0.9105662703514099, epoch time:20.73\n",
      "--------------Validation -------- \n",
      "  Loss:1.0406756890632392, accuracy:0.7465469837188721\n",
      "Epoch:36\n",
      "-----------Training------------- \n",
      " Loss:0.26624893049947906, accuracy:0.9104511737823486, epoch time:20.67\n",
      "--------------Validation -------- \n",
      "  Loss:1.0421401271064856, accuracy:0.7483885884284973\n",
      "Epoch:37\n",
      "-----------Training------------- \n",
      " Loss:0.25735374925654675, accuracy:0.9140193462371826, epoch time:20.65\n",
      "--------------Validation -------- \n",
      "  Loss:1.0643524126892372, accuracy:0.7442449331283569\n",
      "Epoch:38\n",
      "-----------Training------------- \n",
      " Loss:0.24903669083425792, accuracy:0.91810542345047, epoch time:20.69\n",
      "--------------Validation -------- \n",
      "  Loss:1.0786038415427586, accuracy:0.7456261515617371\n",
      "Epoch:39\n",
      "-----------Training------------- \n",
      " Loss:0.24492888388602993, accuracy:0.9232274293899536, epoch time:20.71\n",
      "--------------Validation -------- \n",
      "  Loss:1.0876916971874062, accuracy:0.7424033284187317\n"
     ]
    }
   ],
   "source": [
    "val_history,train_history = training_loop(model,\n",
    "                                          optimizer,\n",
    "                                          criterion,\n",
    "                                          scheduler,\n",
    "                                          train_loader,\n",
    "                                          test_loader,\n",
    "                                          number_of_epochs,\n",
    "                                          save_path=\"best_SEresnet_model.pth\")"
   ]
  },
  {
   "cell_type": "code",
   "execution_count": 18,
   "metadata": {},
   "outputs": [
    {
     "data": {
      "image/png": "[encoded data removed]",
      "text/plain": [
       "<Figure size 640x480 with 1 Axes>"
      ]
     },
     "metadata": {},
     "output_type": "display_data"
    },
    {
     "data": {
      "image/png": "[encoded data removed]",
      "text/plain": [
       "<Figure size 640x480 with 1 Axes>"
      ]
     },
     "metadata": {},
     "output_type": "display_data"
    }
   ],
   "source": [
    "plt.plot(train_history[0])\n",
    "plt.plot(val_history[0])\n",
    "plt.title(\"Accuracy\")\n",
    "plt.ylabel(\"Accuracy\")\n",
    "plt.xlabel(\"Epoch\")\n",
    "plt.legend([\"Training\",\"Validation\"])\n",
    "plt.show()\n",
    "plt.plot(train_history[1])\n",
    "plt.plot(val_history[1])\n",
    "plt.title(\"Loss\")\n",
    "plt.ylabel(\"Loss\")\n",
    "plt.xlabel(\"Epoch\")\n",
    "plt.legend([\"Training\",\"Validation\"])\n",
    "plt.show()"
   ]
  },
  {
   "cell_type": "code",
   "execution_count": 36,
   "metadata": {},
   "outputs": [
    {
     "name": "stdout",
     "output_type": "stream",
     "text": [
      "tensor(0.7109, device='cuda:0')\n"
     ]
    }
   ],
   "source": [
    "model.eval()\n",
    "accuracy = 0\n",
    "for data,label in test_loader :\n",
    "    data = data.to(device)\n",
    "    out = model(data)\n",
    "    accuracy += torch.sum(torch.sigmoid(out).argmax(dim=1) == label.to(device))\n",
    "\n",
    "accuracy = accuracy/ len(test_loader.dataset)\n",
    "print(accuracy)"
   ]
  },
  {
   "cell_type": "code",
   "execution_count": null,
   "metadata": {},
   "outputs": [],
   "source": []
  }
 ],
 "metadata": {
  "kernelspec": {
   "display_name": ".venv",
   "language": "python",
   "name": "python3"
  },
  "language_info": {
   "codemirror_mode": {
    "name": "ipython",
    "version": 3
   },
   "file_extension": ".py",
   "mimetype": "text/x-python",
   "name": "python",
   "nbconvert_exporter": "python",
   "pygments_lexer": "ipython3",
   "version": "3.10.12"
  }
 },
 "nbformat": 4,
 "nbformat_minor": 2
}
