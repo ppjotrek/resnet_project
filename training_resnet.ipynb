{
 "cells": [
  {
   "cell_type": "code",
   "execution_count": 1,
   "metadata": {},
   "outputs": [],
   "source": [
    "import torch \n",
    "from dataloader import ECG_Data, prepare_dataset\n",
    "from resnet_1d import SERes1d\n",
    "from sklearn.model_selection import train_test_split\n",
    "import numpy as np\n",
    "import matplotlib.pyplot as plt\n",
    "import time"
   ]
  },
  {
   "cell_type": "code",
   "execution_count": 2,
   "metadata": {},
   "outputs": [
    {
     "name": "stdout",
     "output_type": "stream",
     "text": [
      "CUDA is available!\n"
     ]
    }
   ],
   "source": [
    "if torch.cuda.is_available():\n",
    "    print(\"CUDA is available!\")\n",
    "    device = torch.device(\"cuda\")  # Set device to GPU\n",
    "else:\n",
    "    print(\"CUDA is not available. Training on CPU.\")\n",
    "    device = torch.device(\"cpu\")  # Set device to CPU"
   ]
  },
  {
   "cell_type": "code",
   "execution_count": 3,
   "metadata": {},
   "outputs": [],
   "source": [
    "def training_loop(model:torch.nn.Module,\n",
    "                  optimizer,\n",
    "                  criterion,\n",
    "                  scheduler,\n",
    "                  train_loader:torch.utils.data.DataLoader,\n",
    "                  validation_loader:torch.utils.data.DataLoader,\n",
    "                  epochs:int = 100,\n",
    "                  save_path:str = None,\n",
    "                  )-> tuple :\n",
    "    \n",
    "    '''\n",
    "    Training loop for the model\n",
    "    Documentation TBA\n",
    "    TODO: Add early stopping\n",
    "    '''\n",
    "\n",
    "    train_losses = np.array([])\n",
    "    train_accuracies = np.array([])\n",
    "    val_losses = np.array([])\n",
    "    val_accuracies = np.array([])\n",
    "    best_acc = 0.0\n",
    "    for epoch in range(epochs):\n",
    "        running_loss = 0.0\n",
    "        train_acc = 0.0\n",
    "        model.train()\n",
    "        epoch_start = time.time()\n",
    "        for data, label in train_loader:\n",
    "            data = data.to(device)\n",
    "            label = label.to(device)\n",
    "            out = model(data)\n",
    "            loss = criterion(out, label)\n",
    "            optimizer.zero_grad()\n",
    "            loss.backward()\n",
    "            optimizer.step()\n",
    "            train_acc += torch.sum(torch.sigmoid(out).argmax(dim=1) == label)\n",
    "            running_loss += loss.item()*data.size(0)\n",
    "        if scheduler != None:\n",
    "            scheduler.step()\n",
    "        epoch_end = time.time()\n",
    "        train_accuracies = np.append(train_accuracies,train_acc.cpu()/len(train_loader.dataset))\n",
    "        train_losses = np.append(train_losses, running_loss/len(train_loader.dataset))\n",
    "        epoch_time = epoch_end - epoch_start\n",
    "        print(f'Epoch:{epoch}\\n-----------Training------------- \\n Loss:{train_losses[epoch]}, accuracy:{train_accuracies[epoch]}, epoch time:{epoch_time:.2f}')\n",
    "\n",
    "        model.eval()\n",
    "        val_acc = 0.0\n",
    "        val_running_loss = 0.0\n",
    "        for data,label in validation_loader:\n",
    "            data = data.to(device)\n",
    "            label = label.to(device)\n",
    "            out = model(data)\n",
    "            loss = criterion(out, label)\n",
    "            val_acc += torch.sum(torch.sigmoid(out).argmax(dim=1) == label)\n",
    "            val_running_loss += loss.item()*data.size(0)\n",
    "            if save_path is not None:\n",
    "                if val_acc > best_acc:\n",
    "                    torch.save(model.state_dict(), save_path)\n",
    "                    best_acc = val_acc\n",
    "        val_accuracies = np.append(val_accuracies,val_acc.cpu()/len(validation_loader.dataset))\n",
    "        val_losses = np.append(val_losses, val_running_loss/len(validation_loader.dataset))\n",
    "        print(f'--------------Validation -------- \\n  Loss:{val_losses[epoch]}, accuracy:{val_accuracies[epoch]}')\n",
    "\n",
    "    return (val_accuracies,val_losses),(train_accuracies,train_losses)"
   ]
  },
  {
   "cell_type": "code",
   "execution_count": 4,
   "metadata": {},
   "outputs": [],
   "source": [
    "\n",
    "# final_data=prepare_dataset(\".\\\\sample_dataset\\\\ptbxl_database.csv\")\n",
    "final_data=prepare_dataset(r\"/home/wicia/Documents/Horzyk/resnet_project/ptb-xl-a-large-publicly-available-electrocardiography-dataset-1.0.3/ptbxl_database.csv\")\n",
    "\n",
    "\n",
    "    #split zrobiłem sklearnem bo po co się męczyć\n",
    "ECG_train,ECG_test=train_test_split(final_data,test_size=0.2,random_state=42)\n",
    "\n",
    "    #inaczej nie działa xd\n",
    "ECG_train=ECG_train.reset_index()\n",
    "ECG_test=ECG_test.reset_index()\n",
    "    #tu ważne żeby podać ścieżkę do folderu z danymi, ale tylko folderu, bo potem to już się samo sklei\n",
    "train_dataset=ECG_Data(ECG_train, r\"/home/wicia/Documents/Horzyk/resnet_project/ptb-xl-a-large-publicly-available-electrocardiography-dataset-1.0.3/\", augmentation_probability=0.6, noise_probability=0.6, noise_level=0.05)\n",
    "train_loader=torch.utils.data.DataLoader(train_dataset,batch_size=256,num_workers=4)\n",
    "test_dataset=ECG_Data(ECG_test, r\"/home/wicia/Documents/Horzyk/resnet_project/ptb-xl-a-large-publicly-available-electrocardiography-dataset-1.0.3/\")\n",
    "test_loader=torch.utils.data.DataLoader(test_dataset,batch_size=256,num_workers=4)\n"
   ]
  },
  {
   "cell_type": "code",
   "execution_count": 5,
   "metadata": {},
   "outputs": [
    {
     "name": "stdout",
     "output_type": "stream",
     "text": [
      "2\n",
      "[7587. 2237. 4346.  981. 1872.  353.]\n"
     ]
    }
   ],
   "source": [
    "print(train_dataset[0][1])\n",
    "count = np.zeros(6)\n",
    "for i in range(len(train_dataset)):\n",
    "    count[train_dataset[i][1]] += 1\n",
    "print(count)"
   ]
  },
  {
   "cell_type": "code",
   "execution_count": null,
   "metadata": {},
   "outputs": [
    {
     "name": "stdout",
     "output_type": "stream",
     "text": [
      "17376.0\n"
     ]
    }
   ],
   "source": [
    "print(np.sum(count))"
   ]
  },
  {
   "cell_type": "code",
   "execution_count": 6,
   "metadata": {},
   "outputs": [],
   "source": [
    "weights = torch.Tensor(1-(count/len(train_dataset))).to(device)"
   ]
  },
  {
   "cell_type": "code",
   "execution_count": 7,
   "metadata": {},
   "outputs": [],
   "source": [
    "number_of_channels=12\n",
    "number_of_classes=6\n",
    "model = SERes1d(number_of_channels,number_of_classes).to(device)"
   ]
  },
  {
   "cell_type": "code",
   "execution_count": 8,
   "metadata": {},
   "outputs": [],
   "source": [
    "criterion = torch.nn.CrossEntropyLoss(weight=weights)\n",
    "optimizer = torch.optim.Adam(model.parameters(), lr=0.01)\n",
    "scheduler = torch.optim.lr_scheduler.ExponentialLR(optimizer, gamma=0.9)\n",
    "number_of_epochs = 40\n"
   ]
  },
  {
   "cell_type": "code",
   "execution_count": 9,
   "metadata": {},
   "outputs": [
    {
     "name": "stderr",
     "output_type": "stream",
     "text": [
      "/home/wicia/Documents/Horzyk/resnet_project/.venv/lib/python3.10/site-packages/torch/autograd/graph.py:744: UserWarning: Plan failed with a cudnnException: CUDNN_BACKEND_EXECUTION_PLAN_DESCRIPTOR: cudnnFinalize Descriptor Failed cudnn_status: CUDNN_STATUS_NOT_SUPPORTED (Triggered internally at ../aten/src/ATen/native/cudnn/Conv_v8.cpp:919.)\n",
      "  return Variable._execution_engine.run_backward(  # Calls into the C++ engine to run the backward pass\n"
     ]
    },
    {
     "name": "stdout",
     "output_type": "stream",
     "text": [
      "Epoch:0\n",
      "-----------Training------------- \n",
      " Loss:1.3254904037900612, accuracy:0.5463282465934753, epoch time:15.66\n",
      "--------------Validation -------- \n",
      "  Loss:0.9794031200487969, accuracy:0.6682780981063843\n",
      "Epoch:1\n",
      "-----------Training------------- \n",
      " Loss:1.0380626137524458, accuracy:0.6493439078330994, epoch time:16.59\n",
      "--------------Validation -------- \n",
      "  Loss:0.982415868212944, accuracy:0.6917587518692017\n",
      "Epoch:2\n",
      "-----------Training------------- \n",
      " Loss:0.9577811061787123, accuracy:0.67564457654953, epoch time:15.66\n",
      "--------------Validation -------- \n",
      "  Loss:0.8890879352887472, accuracy:0.7101749777793884\n",
      "Epoch:3\n",
      "-----------Training------------- \n",
      " Loss:0.8990507272945144, accuracy:0.6939456462860107, epoch time:15.50\n",
      "--------------Validation -------- \n",
      "  Loss:0.8783414593278593, accuracy:0.7150092124938965\n",
      "Epoch:4\n",
      "-----------Training------------- \n",
      " Loss:0.8735448188983713, accuracy:0.7018876671791077, epoch time:15.59\n",
      "--------------Validation -------- \n",
      "  Loss:0.8311106625182852, accuracy:0.7281307578086853\n",
      "Epoch:5\n",
      "-----------Training------------- \n",
      " Loss:0.8400246772098717, accuracy:0.715239405632019, epoch time:15.37\n",
      "--------------Validation -------- \n",
      "  Loss:0.8163097703874002, accuracy:0.7304328083992004\n",
      "Epoch:6\n",
      "-----------Training------------- \n",
      " Loss:0.8064655538641506, accuracy:0.7257711887359619, epoch time:15.26\n",
      "--------------Validation -------- \n",
      "  Loss:0.7773912621466494, accuracy:0.7456261515617371\n",
      "Epoch:7\n",
      "-----------Training------------- \n",
      " Loss:0.7791429463890596, accuracy:0.7322168350219727, epoch time:16.38\n",
      "--------------Validation -------- \n",
      "  Loss:0.7548558949106965, accuracy:0.7433241009712219\n",
      "Epoch:8\n",
      "-----------Training------------- \n",
      " Loss:0.763785076185265, accuracy:0.7403314709663391, epoch time:15.29\n",
      "--------------Validation -------- \n",
      "  Loss:0.7458918634699194, accuracy:0.7483885884284973\n",
      "Epoch:9\n",
      "-----------Training------------- \n",
      " Loss:0.7380112966121231, accuracy:0.7448204159736633, epoch time:15.45\n",
      "--------------Validation -------- \n",
      "  Loss:0.7413847703301446, accuracy:0.7424033284187317\n",
      "Epoch:10\n",
      "-----------Training------------- \n",
      " Loss:0.7261250499862334, accuracy:0.7501150965690613, epoch time:17.49\n",
      "--------------Validation -------- \n",
      "  Loss:0.7671424997884705, accuracy:0.7338858246803284\n",
      "Epoch:11\n",
      "-----------Training------------- \n",
      " Loss:0.7119015095203182, accuracy:0.7567334175109863, epoch time:15.49\n",
      "--------------Validation -------- \n",
      "  Loss:0.7518362795889487, accuracy:0.7470073699951172\n",
      "Epoch:12\n",
      "-----------Training------------- \n",
      " Loss:0.7001440950959208, accuracy:0.7584599256515503, epoch time:15.81\n",
      "--------------Validation -------- \n",
      "  Loss:0.7518656681914356, accuracy:0.7281307578086853\n",
      "Epoch:13\n",
      "-----------Training------------- \n",
      " Loss:0.6843013480223344, accuracy:0.7593231797218323, epoch time:16.89\n",
      "--------------Validation -------- \n",
      "  Loss:0.7214700263508117, accuracy:0.7483885884284973\n",
      "Epoch:14\n",
      "-----------Training------------- \n",
      " Loss:0.662614754001519, accuracy:0.7691068053245544, epoch time:16.15\n",
      "--------------Validation -------- \n",
      "  Loss:0.7216520167846048, accuracy:0.7559852600097656\n",
      "Epoch:15\n",
      "-----------Training------------- \n",
      " Loss:0.6530605599586037, accuracy:0.7729626893997192, epoch time:15.55\n",
      "--------------Validation -------- \n",
      "  Loss:0.7233807868281341, accuracy:0.7562154531478882\n",
      "Epoch:16\n",
      "-----------Training------------- \n",
      " Loss:0.6463600984374902, accuracy:0.7783148884773254, epoch time:15.87\n",
      "--------------Validation -------- \n",
      "  Loss:0.7195317388459025, accuracy:0.7543738484382629\n",
      "Epoch:17\n",
      "-----------Training------------- \n",
      " Loss:0.6255385922902635, accuracy:0.783839762210846, epoch time:15.34\n",
      "--------------Validation -------- \n",
      "  Loss:0.7264983725372159, accuracy:0.7569060921669006\n",
      "Epoch:18\n",
      "-----------Training------------- \n",
      " Loss:0.6223594583639563, accuracy:0.7809622287750244, epoch time:15.21\n",
      "--------------Validation -------- \n",
      "  Loss:0.7265687848322958, accuracy:0.7529926300048828\n",
      "Epoch:19\n",
      "-----------Training------------- \n",
      " Loss:0.6063588475654138, accuracy:0.7879258990287781, epoch time:15.86\n",
      "--------------Validation -------- \n",
      "  Loss:0.7195674337954372, accuracy:0.761049747467041\n",
      "Epoch:20\n",
      "-----------Training------------- \n",
      " Loss:0.59287279723538, accuracy:0.7944291234016418, epoch time:15.48\n",
      "--------------Validation -------- \n",
      "  Loss:0.7262916955719556, accuracy:0.7573664784431458\n",
      "Epoch:21\n",
      "-----------Training------------- \n",
      " Loss:0.580627078180155, accuracy:0.7936809659004211, epoch time:16.44\n",
      "--------------Validation -------- \n",
      "  Loss:0.7437095765031284, accuracy:0.7532228231430054\n",
      "Epoch:22\n",
      "-----------Training------------- \n",
      " Loss:0.572837599843027, accuracy:0.7996662259101868, epoch time:16.19\n",
      "--------------Validation -------- \n",
      "  Loss:0.7466481210557576, accuracy:0.7548342347145081\n",
      "Epoch:23\n",
      "-----------Training------------- \n",
      " Loss:0.5597035716910389, accuracy:0.8038673996925354, epoch time:15.72\n",
      "--------------Validation -------- \n",
      "  Loss:0.7496805511565937, accuracy:0.7569060921669006\n",
      "Epoch:24\n",
      "-----------Training------------- \n",
      " Loss:0.5494872202091674, accuracy:0.8069176077842712, epoch time:16.18\n",
      "--------------Validation -------- \n",
      "  Loss:0.7525741987026419, accuracy:0.7557550668716431\n",
      "Epoch:25\n",
      "-----------Training------------- \n",
      " Loss:0.5364441014346057, accuracy:0.8131330609321594, epoch time:15.53\n",
      "--------------Validation -------- \n",
      "  Loss:0.7622160159641428, accuracy:0.7580571174621582\n",
      "Epoch:26\n",
      "-----------Training------------- \n",
      " Loss:0.5197739423309242, accuracy:0.8168162703514099, epoch time:15.23\n",
      "--------------Validation -------- \n",
      "  Loss:0.7732442752432428, accuracy:0.7474677562713623\n",
      "Epoch:27\n",
      "-----------Training------------- \n",
      " Loss:0.5166532784755278, accuracy:0.8190032243728638, epoch time:15.40\n",
      "--------------Validation -------- \n",
      "  Loss:0.7687202640440363, accuracy:0.7546040415763855\n",
      "Epoch:28\n",
      "-----------Training------------- \n",
      " Loss:0.5030836340033108, accuracy:0.8240676522254944, epoch time:15.39\n",
      "--------------Validation -------- \n",
      "  Loss:0.7694857477263631, accuracy:0.7550644278526306\n",
      "Epoch:29\n",
      "-----------Training------------- \n",
      " Loss:0.4923434857395692, accuracy:0.8278084993362427, epoch time:15.02\n",
      "--------------Validation -------- \n",
      "  Loss:0.7950312138481913, accuracy:0.7562154531478882\n",
      "Epoch:30\n",
      "-----------Training------------- \n",
      " Loss:0.48942844808430963, accuracy:0.8297652006149292, epoch time:15.45\n",
      "--------------Validation -------- \n",
      "  Loss:0.7924762201353112, accuracy:0.7594382762908936\n",
      "Epoch:31\n",
      "-----------Training------------- \n",
      " Loss:0.4889997938719902, accuracy:0.8280962109565735, epoch time:15.36\n",
      "--------------Validation -------- \n",
      "  Loss:0.7995669576125031, accuracy:0.7580571174621582\n",
      "Epoch:32\n",
      "-----------Training------------- \n",
      " Loss:0.47014469665717024, accuracy:0.835405170917511, epoch time:15.60\n",
      "--------------Validation -------- \n",
      "  Loss:0.8006252143703552, accuracy:0.7569060921669006\n",
      "Epoch:33\n",
      "-----------Training------------- \n",
      " Loss:0.4617594438802252, accuracy:0.8391459584236145, epoch time:15.28\n",
      "--------------Validation -------- \n",
      "  Loss:0.8116035365926627, accuracy:0.75\n",
      "Epoch:34\n",
      "-----------Training------------- \n",
      " Loss:0.45526081894423204, accuracy:0.8415055274963379, epoch time:15.62\n",
      "--------------Validation -------- \n",
      "  Loss:0.809026102444524, accuracy:0.755294680595398\n",
      "Epoch:35\n",
      "-----------Training------------- \n",
      " Loss:0.44920437666373136, accuracy:0.8420810103416443, epoch time:16.79\n",
      "--------------Validation -------- \n",
      "  Loss:0.8150897105095795, accuracy:0.7534530162811279\n",
      "Epoch:36\n",
      "-----------Training------------- \n",
      " Loss:0.4480481506162366, accuracy:0.8452463150024414, epoch time:15.31\n",
      "--------------Validation -------- \n",
      "  Loss:0.8220354363624123, accuracy:0.7546040415763855\n",
      "Epoch:37\n",
      "-----------Training------------- \n",
      " Loss:0.44308204150331615, accuracy:0.847260594367981, epoch time:15.47\n",
      "--------------Validation -------- \n",
      "  Loss:0.8266376534658681, accuracy:0.7559852600097656\n",
      "Epoch:38\n",
      "-----------Training------------- \n",
      " Loss:0.42724265188362937, accuracy:0.8514617681503296, epoch time:15.58\n",
      "--------------Validation -------- \n",
      "  Loss:0.8338178228278187, accuracy:0.7559852600097656\n",
      "Epoch:39\n",
      "-----------Training------------- \n",
      " Loss:0.4251337604079238, accuracy:0.8539940118789673, epoch time:15.82\n",
      "--------------Validation -------- \n",
      "  Loss:0.8412369904597161, accuracy:0.7534530162811279\n"
     ]
    }
   ],
   "source": [
    "val_history,train_history = training_loop(model,\n",
    "                                          optimizer,\n",
    "                                          criterion,\n",
    "                                          scheduler,\n",
    "                                          train_loader,\n",
    "                                          test_loader,\n",
    "                                          number_of_epochs,\n",
    "                                          save_path=\"best_SEresnet_model.pth\")"
   ]
  },
  {
   "cell_type": "code",
   "execution_count": 10,
   "metadata": {},
   "outputs": [
    {
     "data": {
      "image/png": "[encoded data removed]",
      "text/plain": [
       "<Figure size 640x480 with 1 Axes>"
      ]
     },
     "metadata": {},
     "output_type": "display_data"
    },
    {
     "data": {
      "image/png": "[encoded data removed]",
      "text/plain": [
       "<Figure size 640x480 with 1 Axes>"
      ]
     },
     "metadata": {},
     "output_type": "display_data"
    }
   ],
   "source": [
    "plt.plot(train_history[0])\n",
    "plt.plot(val_history[0])\n",
    "plt.title(\"Accuracy\")\n",
    "plt.ylabel(\"Accuracy\")\n",
    "plt.xlabel(\"Epoch\")\n",
    "plt.legend([\"Training\",\"Validation\"])\n",
    "plt.show()\n",
    "plt.plot(train_history[1])\n",
    "plt.plot(val_history[1])\n",
    "plt.title(\"Loss\")\n",
    "plt.ylabel(\"Loss\")\n",
    "plt.xlabel(\"Epoch\")\n",
    "plt.legend([\"Training\",\"Validation\"])\n",
    "plt.show()"
   ]
  },
  {
   "cell_type": "code",
   "execution_count": 36,
   "metadata": {},
   "outputs": [
    {
     "name": "stdout",
     "output_type": "stream",
     "text": [
      "tensor(0.7109, device='cuda:0')\n"
     ]
    }
   ],
   "source": [
    "model.eval()\n",
    "accuracy = 0\n",
    "for data,label in test_loader :\n",
    "    data = data.to(device)\n",
    "    out = model(data)\n",
    "    accuracy += torch.sum(torch.sigmoid(out).argmax(dim=1) == label.to(device))\n",
    "\n",
    "accuracy = accuracy/ len(test_loader.dataset)\n",
    "print(accuracy)"
   ]
  },
  {
   "cell_type": "code",
   "execution_count": null,
   "metadata": {},
   "outputs": [],
   "source": []
  }
 ],
 "metadata": {
  "kernelspec": {
   "display_name": ".venv",
   "language": "python",
   "name": "python3"
  },
  "language_info": {
   "codemirror_mode": {
    "name": "ipython",
    "version": 3
   },
   "file_extension": ".py",
   "mimetype": "text/x-python",
   "name": "python",
   "nbconvert_exporter": "python",
   "pygments_lexer": "ipython3",
   "version": "3.10.12"
  }
 },
 "nbformat": 4,
 "nbformat_minor": 2
}
