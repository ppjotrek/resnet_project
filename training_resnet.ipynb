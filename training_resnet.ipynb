{
 "cells": [
  {
   "cell_type": "code",
   "execution_count": 1,
   "metadata": {},
   "outputs": [],
   "source": [
    "import torch \n",
    "from dataloader import ECG_Data, prepare_dataset\n",
    "from resnet_1d import SERes1d\n",
    "from sklearn.model_selection import train_test_split\n",
    "import numpy as np\n",
    "import matplotlib.pyplot as plt\n",
    "import time"
   ]
  },
  {
   "cell_type": "code",
   "execution_count": 2,
   "metadata": {},
   "outputs": [
    {
     "name": "stdout",
     "output_type": "stream",
     "text": [
      "CUDA is available!\n"
     ]
    }
   ],
   "source": [
    "if torch.cuda.is_available():\n",
    "    print(\"CUDA is available!\")\n",
    "    device = torch.device(\"cuda\")  # Set device to GPU\n",
    "else:\n",
    "    print(\"CUDA is not available. Training on CPU.\")\n",
    "    device = torch.device(\"cpu\")  # Set device to CPU"
   ]
  },
  {
   "cell_type": "code",
   "execution_count": 3,
   "metadata": {},
   "outputs": [],
   "source": [
    "def training_loop(model:torch.nn.Module,\n",
    "                  optimizer,\n",
    "                  criterion,\n",
    "                  scheduler,\n",
    "                  train_loader:torch.utils.data.DataLoader,\n",
    "                  validation_loader:torch.utils.data.DataLoader,\n",
    "                  epochs:int = 100,\n",
    "                  save_path:str = None,\n",
    "                  )-> tuple :\n",
    "    \n",
    "    '''\n",
    "    Training loop for the model\n",
    "    Documentation TBA\n",
    "    TODO: Add early stopping\n",
    "    '''\n",
    "\n",
    "    train_losses = np.array([])\n",
    "    train_accuracies = np.array([])\n",
    "    val_losses = np.array([])\n",
    "    val_accuracies = np.array([])\n",
    "    best_acc = 0.0\n",
    "    for epoch in range(epochs):\n",
    "        running_loss = 0.0\n",
    "        train_acc = 0.0\n",
    "        model.train()\n",
    "        epoch_start = time.time()\n",
    "        for data, label in train_loader:\n",
    "            data = data.to(device)\n",
    "            label = label.to(device)\n",
    "            out = model(data)\n",
    "            loss = criterion(out, label)\n",
    "            optimizer.zero_grad()\n",
    "            loss.backward()\n",
    "            optimizer.step()\n",
    "            train_acc += torch.sum(torch.sigmoid(out).argmax(dim=1) == label)\n",
    "            running_loss += loss.item()*data.size(0)\n",
    "        if scheduler != None:\n",
    "            scheduler.step()\n",
    "        epoch_end = time.time()\n",
    "        train_accuracies = np.append(train_accuracies,train_acc.cpu()/len(train_loader.dataset))\n",
    "        train_losses = np.append(train_losses, running_loss/len(train_loader.dataset))\n",
    "        epoch_time = epoch_end - epoch_start\n",
    "        print(f'Epoch:{epoch}\\n-----------Training------------- \\n Loss:{train_losses[epoch]}, accuracy:{train_accuracies[epoch]}, epoch time:{epoch_time:.2f}')\n",
    "\n",
    "        model.eval()\n",
    "        val_acc = 0.0\n",
    "        val_running_loss = 0.0\n",
    "        for data,label in validation_loader:\n",
    "            data = data.to(device)\n",
    "            label = label.to(device)\n",
    "            out = model(data)\n",
    "            loss = criterion(out, label)\n",
    "            val_acc += torch.sum(torch.sigmoid(out).argmax(dim=1) == label)\n",
    "            val_running_loss += loss.item()*data.size(0)\n",
    "            if save_path is not None:\n",
    "                if val_acc > best_acc:\n",
    "                    torch.save(model.state_dict(), save_path)\n",
    "                    best_acc = val_acc\n",
    "        val_accuracies = np.append(val_accuracies,val_acc.cpu()/len(validation_loader.dataset))\n",
    "        val_losses = np.append(val_losses, val_running_loss/len(validation_loader.dataset))\n",
    "        print(f'--------------Validation -------- \\n  Loss:{val_losses[epoch]}, accuracy:{val_accuracies[epoch]}')\n",
    "\n",
    "    return (val_accuracies,val_losses),(train_accuracies,train_losses)"
   ]
  },
  {
   "cell_type": "code",
   "execution_count": 4,
   "metadata": {},
   "outputs": [],
   "source": [
    "\n",
    "# final_data=prepare_dataset(\".\\\\sample_dataset\\\\ptbxl_database.csv\")\n",
    "final_data=prepare_dataset(r\"/home/wicia/Documents/Horzyk/resnet_project/ptb-xl-a-large-publicly-available-electrocardiography-dataset-1.0.3/ptbxl_database.csv\")\n",
    "\n",
    "\n",
    "    #split zrobiłem sklearnem bo po co się męczyć\n",
    "ECG_train,ECG_test=train_test_split(final_data,test_size=0.2,random_state=42)\n",
    "\n",
    "    #inaczej nie działa xd\n",
    "ECG_train=ECG_train.reset_index()\n",
    "ECG_test=ECG_test.reset_index()\n",
    "    #tu ważne żeby podać ścieżkę do folderu z danymi, ale tylko folderu, bo potem to już się samo sklei\n",
    "train_dataset=ECG_Data(ECG_train, r\"/home/wicia/Documents/Horzyk/resnet_project/ptb-xl-a-large-publicly-available-electrocardiography-dataset-1.0.3/\", augmentation_probability=0.6, noise_probability=0.6, noise_level=0.05)\n",
    "train_loader=torch.utils.data.DataLoader(train_dataset,batch_size=256,num_workers=4)\n",
    "test_dataset=ECG_Data(ECG_test, r\"/home/wicia/Documents/Horzyk/resnet_project/ptb-xl-a-large-publicly-available-electrocardiography-dataset-1.0.3/\")\n",
    "test_loader=torch.utils.data.DataLoader(test_dataset,batch_size=256,num_workers=4)\n"
   ]
  },
  {
   "cell_type": "code",
   "execution_count": 5,
   "metadata": {},
   "outputs": [
    {
     "name": "stdout",
     "output_type": "stream",
     "text": [
      "2\n",
      "[7587. 2237. 4346.  981. 1872.  353.]\n"
     ]
    }
   ],
   "source": [
    "print(train_dataset[0][1])\n",
    "count = np.zeros(6)\n",
    "for i in range(len(train_dataset)):\n",
    "    count[train_dataset[i][1]] += 1\n",
    "print(count)"
   ]
  },
  {
   "cell_type": "code",
   "execution_count": 6,
   "metadata": {},
   "outputs": [
    {
     "name": "stdout",
     "output_type": "stream",
     "text": [
      "17376.0\n"
     ]
    }
   ],
   "source": [
    "print(np.sum(count))"
   ]
  },
  {
   "cell_type": "code",
   "execution_count": 7,
   "metadata": {},
   "outputs": [],
   "source": [
    "weights = torch.Tensor(1-(count/len(train_dataset))).to(device)"
   ]
  },
  {
   "cell_type": "code",
   "execution_count": 8,
   "metadata": {},
   "outputs": [],
   "source": [
    "number_of_channels=12\n",
    "number_of_classes=6\n",
    "model = SERes1d(number_of_channels,number_of_classes).to(device)"
   ]
  },
  {
   "cell_type": "code",
   "execution_count": 9,
   "metadata": {},
   "outputs": [],
   "source": [
    "criterion = torch.nn.CrossEntropyLoss(weight=weights)\n",
    "optimizer = torch.optim.Adam(model.parameters(), lr=0.01)\n",
    "scheduler = torch.optim.lr_scheduler.ExponentialLR(optimizer, gamma=0.9)\n",
    "number_of_epochs = 40\n"
   ]
  },
  {
   "cell_type": "code",
   "execution_count": 10,
   "metadata": {},
   "outputs": [
    {
     "name": "stderr",
     "output_type": "stream",
     "text": [
      "/home/wicia/Documents/Horzyk/resnet_project/.venv/lib/python3.10/site-packages/torch/autograd/graph.py:744: UserWarning: Plan failed with a cudnnException: CUDNN_BACKEND_EXECUTION_PLAN_DESCRIPTOR: cudnnFinalize Descriptor Failed cudnn_status: CUDNN_STATUS_NOT_SUPPORTED (Triggered internally at ../aten/src/ATen/native/cudnn/Conv_v8.cpp:919.)\n",
      "  return Variable._execution_engine.run_backward(  # Calls into the C++ engine to run the backward pass\n"
     ]
    },
    {
     "name": "stdout",
     "output_type": "stream",
     "text": [
      "Epoch:0\n",
      "-----------Training------------- \n",
      " Loss:1.4718151092529297, accuracy:0.4986763298511505, epoch time:22.22\n",
      "--------------Validation -------- \n",
      "  Loss:1.224219584552842, accuracy:0.5971454977989197\n",
      "Epoch:1\n",
      "-----------Training------------- \n",
      " Loss:1.18052277161052, accuracy:0.5998503565788269, epoch time:22.10\n",
      "--------------Validation -------- \n",
      "  Loss:1.0834774883192986, accuracy:0.6560773253440857\n",
      "Epoch:2\n",
      "-----------Training------------- \n",
      " Loss:1.059064099033454, accuracy:0.6382366418838501, epoch time:21.69\n",
      "--------------Validation -------- \n",
      "  Loss:0.955435298095092, accuracy:0.6685082912445068\n",
      "Epoch:3\n",
      "-----------Training------------- \n",
      " Loss:0.9715031067091238, accuracy:0.6674723625183105, epoch time:21.87\n",
      "--------------Validation -------- \n",
      "  Loss:0.8939662183845899, accuracy:0.7124769687652588\n",
      "Epoch:4\n",
      "-----------Training------------- \n",
      " Loss:0.914690602220883, accuracy:0.6894567012786865, epoch time:21.88\n",
      "--------------Validation -------- \n",
      "  Loss:0.8803336713634582, accuracy:0.7081031203269958\n",
      "Epoch:5\n",
      "-----------Training------------- \n",
      " Loss:0.8713579048328857, accuracy:0.7051680684089661, epoch time:21.74\n",
      "--------------Validation -------- \n",
      "  Loss:0.8726390805472766, accuracy:0.7067219018936157\n",
      "Epoch:6\n",
      "-----------Training------------- \n",
      " Loss:0.8381518503139911, accuracy:0.7116137146949768, epoch time:21.52\n",
      "--------------Validation -------- \n",
      "  Loss:0.8419767892602179, accuracy:0.7226058840751648\n",
      "Epoch:7\n",
      "-----------Training------------- \n",
      " Loss:0.8133645301365721, accuracy:0.7199010252952576, epoch time:21.27\n",
      "--------------Validation -------- \n",
      "  Loss:0.7950697515989974, accuracy:0.7329649925231934\n",
      "Epoch:8\n",
      "-----------Training------------- \n",
      " Loss:0.8015958187110297, accuracy:0.7238144278526306, epoch time:21.33\n",
      "--------------Validation -------- \n",
      "  Loss:0.7967456499076899, accuracy:0.7223756909370422\n",
      "Epoch:9\n",
      "-----------Training------------- \n",
      " Loss:0.7712267609810521, accuracy:0.7352094650268555, epoch time:21.41\n",
      "--------------Validation -------- \n",
      "  Loss:0.7778503303150226, accuracy:0.7364180684089661\n",
      "Epoch:10\n",
      "-----------Training------------- \n",
      " Loss:0.7556720963279626, accuracy:0.7391805052757263, epoch time:21.65\n",
      "--------------Validation -------- \n",
      "  Loss:0.7350384269190976, accuracy:0.7516114115715027\n",
      "Epoch:11\n",
      "-----------Training------------- \n",
      " Loss:0.7337294347158893, accuracy:0.7497122287750244, epoch time:21.18\n",
      "--------------Validation -------- \n",
      "  Loss:0.7351354222271324, accuracy:0.7474677562713623\n",
      "Epoch:12\n",
      "-----------Training------------- \n",
      " Loss:0.7205233065682441, accuracy:0.750863254070282, epoch time:21.38\n",
      "--------------Validation -------- \n",
      "  Loss:0.7319082052448617, accuracy:0.7371086478233337\n",
      "Epoch:13\n",
      "-----------Training------------- \n",
      " Loss:0.709419120082539, accuracy:0.7559277415275574, epoch time:21.43\n",
      "--------------Validation -------- \n",
      "  Loss:0.7266483461659258, accuracy:0.7504603862762451\n",
      "Epoch:14\n",
      "-----------Training------------- \n",
      " Loss:0.6945170418772688, accuracy:0.7594958543777466, epoch time:21.36\n",
      "--------------Validation -------- \n",
      "  Loss:0.7575936590769015, accuracy:0.7267495393753052\n",
      "Epoch:15\n",
      "-----------Training------------- \n",
      " Loss:0.6799822837169218, accuracy:0.7647329568862915, epoch time:21.30\n",
      "--------------Validation -------- \n",
      "  Loss:0.7789871548859894, accuracy:0.7159300446510315\n",
      "Epoch:16\n",
      "-----------Training------------- \n",
      " Loss:0.6661353380201491, accuracy:0.7690492868423462, epoch time:21.29\n",
      "--------------Validation -------- \n",
      "  Loss:0.7488781680279235, accuracy:0.7366482615470886\n",
      "Epoch:17\n",
      "-----------Training------------- \n",
      " Loss:0.6611804868854432, accuracy:0.76939457654953, epoch time:21.28\n",
      "--------------Validation -------- \n",
      "  Loss:0.7560170911952276, accuracy:0.7221454977989197\n",
      "Epoch:18\n",
      "-----------Training------------- \n",
      " Loss:0.6484571231004282, accuracy:0.7738835215568542, epoch time:21.44\n",
      "--------------Validation -------- \n",
      "  Loss:0.7521543605990612, accuracy:0.7322744131088257\n",
      "Epoch:19\n",
      "-----------Training------------- \n",
      " Loss:0.6381808349221232, accuracy:0.7767034769058228, epoch time:21.56\n",
      "--------------Validation -------- \n",
      "  Loss:0.7165826873006522, accuracy:0.7532228231430054\n",
      "Epoch:20\n",
      "-----------Training------------- \n",
      " Loss:0.6263681270360507, accuracy:0.7792932987213135, epoch time:21.35\n",
      "--------------Validation -------- \n",
      "  Loss:0.7533938927545073, accuracy:0.7529926300048828\n",
      "Epoch:21\n",
      "-----------Training------------- \n",
      " Loss:0.6232521765578957, accuracy:0.7832067012786865, epoch time:21.35\n",
      "--------------Validation -------- \n",
      "  Loss:0.7266094642888555, accuracy:0.7470073699951172\n",
      "Epoch:22\n",
      "-----------Training------------- \n",
      " Loss:0.6118300730571782, accuracy:0.782170832157135, epoch time:21.36\n",
      "--------------Validation -------- \n",
      "  Loss:0.7177943148226589, accuracy:0.759208083152771\n",
      "Epoch:23\n",
      "-----------Training------------- \n",
      " Loss:0.6008529997881824, accuracy:0.7863144278526306, epoch time:21.38\n",
      "--------------Validation -------- \n",
      "  Loss:0.7337770106384108, accuracy:0.739871084690094\n",
      "Epoch:24\n",
      "-----------Training------------- \n",
      " Loss:0.5912434299567347, accuracy:0.7911487221717834, epoch time:21.32\n",
      "--------------Validation -------- \n",
      "  Loss:0.725513045080898, accuracy:0.7557550668716431\n",
      "Epoch:25\n",
      "-----------Training------------- \n",
      " Loss:0.5840706408133604, accuracy:0.7919543981552124, epoch time:21.34\n",
      "--------------Validation -------- \n",
      "  Loss:0.731269492848363, accuracy:0.7493094205856323\n",
      "Epoch:26\n",
      "-----------Training------------- \n",
      " Loss:0.5734614077852576, accuracy:0.7946017384529114, epoch time:21.46\n",
      "--------------Validation -------- \n",
      "  Loss:0.7276249482925865, accuracy:0.750920832157135\n",
      "Epoch:27\n",
      "-----------Training------------- \n",
      " Loss:0.5640198264552304, accuracy:0.8020257949829102, epoch time:21.44\n",
      "--------------Validation -------- \n",
      "  Loss:0.7338220758113194, accuracy:0.7532228231430054\n",
      "Epoch:28\n",
      "-----------Training------------- \n",
      " Loss:0.5559374571505172, accuracy:0.8045004606246948, epoch time:21.35\n",
      "--------------Validation -------- \n",
      "  Loss:0.7354944095866237, accuracy:0.7550644278526306\n",
      "Epoch:29\n",
      "-----------Training------------- \n",
      " Loss:0.5456889575796672, accuracy:0.8095073699951172, epoch time:21.34\n",
      "--------------Validation -------- \n",
      "  Loss:0.7329836250668731, accuracy:0.7598987221717834\n",
      "Epoch:30\n",
      "-----------Training------------- \n",
      " Loss:0.5438084568327523, accuracy:0.8076081871986389, epoch time:21.32\n",
      "--------------Validation -------- \n",
      "  Loss:0.7370441549390719, accuracy:0.7612799406051636\n",
      "Epoch:31\n",
      "-----------Training------------- \n",
      " Loss:0.5339018503824869, accuracy:0.8099677562713623, epoch time:21.45\n",
      "--------------Validation -------- \n",
      "  Loss:0.7539529033128728, accuracy:0.755294680595398\n",
      "Epoch:32\n",
      "-----------Training------------- \n",
      " Loss:0.5213997497962545, accuracy:0.8133057355880737, epoch time:21.51\n",
      "--------------Validation -------- \n",
      "  Loss:0.7521975097515745, accuracy:0.7569060921669006\n",
      "Epoch:33\n",
      "-----------Training------------- \n",
      " Loss:0.5127557976030732, accuracy:0.8181399703025818, epoch time:21.27\n",
      "--------------Validation -------- \n",
      "  Loss:0.7546634667486117, accuracy:0.7559852600097656\n",
      "Epoch:34\n",
      "-----------Training------------- \n",
      " Loss:0.5108226986660264, accuracy:0.8190032243728638, epoch time:21.43\n",
      "--------------Validation -------- \n",
      "  Loss:0.7566306918145982, accuracy:0.7569060921669006\n",
      "Epoch:35\n",
      "-----------Training------------- \n",
      " Loss:0.5073912110227686, accuracy:0.8185428380966187, epoch time:21.57\n",
      "--------------Validation -------- \n",
      "  Loss:0.7645402182970696, accuracy:0.7569060921669006\n",
      "Epoch:36\n",
      "-----------Training------------- \n",
      " Loss:0.5053011044503136, accuracy:0.8197513818740845, epoch time:21.61\n",
      "--------------Validation -------- \n",
      "  Loss:0.7666557885665262, accuracy:0.7557550668716431\n",
      "Epoch:37\n",
      "-----------Training------------- \n",
      " Loss:0.4941289659253361, accuracy:0.8250460624694824, epoch time:21.84\n",
      "--------------Validation -------- \n",
      "  Loss:0.7665434025269187, accuracy:0.7569060921669006\n",
      "Epoch:38\n",
      "-----------Training------------- \n",
      " Loss:0.48046915872540485, accuracy:0.8255639672279358, epoch time:21.61\n",
      "--------------Validation -------- \n",
      "  Loss:0.7696283459663391, accuracy:0.7564456462860107\n",
      "Epoch:39\n",
      "-----------Training------------- \n",
      " Loss:0.48541684407555596, accuracy:0.829247236251831, epoch time:21.99\n",
      "--------------Validation -------- \n",
      "  Loss:0.7770733355817215, accuracy:0.7571362853050232\n"
     ]
    }
   ],
   "source": [
    "val_history,train_history = training_loop(model,\n",
    "                                          optimizer,\n",
    "                                          criterion,\n",
    "                                          scheduler,\n",
    "                                          train_loader,\n",
    "                                          test_loader,\n",
    "                                          number_of_epochs,\n",
    "                                          save_path=\"best_SEresnet_model.pth\")"
   ]
  },
  {
   "cell_type": "code",
   "execution_count": 11,
   "metadata": {},
   "outputs": [
    {
     "data": {
      "image/png": "[encoded data removed]",
      "text/plain": [
       "<Figure size 640x480 with 1 Axes>"
      ]
     },
     "metadata": {},
     "output_type": "display_data"
    },
    {
     "data": {
      "image/png": "[encoded data removed]",
      "text/plain": [
       "<Figure size 640x480 with 1 Axes>"
      ]
     },
     "metadata": {},
     "output_type": "display_data"
    }
   ],
   "source": [
    "plt.plot(train_history[0])\n",
    "plt.plot(val_history[0])\n",
    "plt.title(\"Accuracy\")\n",
    "plt.ylabel(\"Accuracy\")\n",
    "plt.xlabel(\"Epoch\")\n",
    "plt.legend([\"Training\",\"Validation\"])\n",
    "plt.show()\n",
    "plt.plot(train_history[1])\n",
    "plt.plot(val_history[1])\n",
    "plt.title(\"Loss\")\n",
    "plt.ylabel(\"Loss\")\n",
    "plt.xlabel(\"Epoch\")\n",
    "plt.legend([\"Training\",\"Validation\"])\n",
    "plt.show()"
   ]
  },
  {
   "cell_type": "code",
   "execution_count": 36,
   "metadata": {},
   "outputs": [
    {
     "name": "stdout",
     "output_type": "stream",
     "text": [
      "tensor(0.7109, device='cuda:0')\n"
     ]
    }
   ],
   "source": [
    "model.eval()\n",
    "accuracy = 0\n",
    "for data,label in test_loader :\n",
    "    data = data.to(device)\n",
    "    out = model(data)\n",
    "    accuracy += torch.sum(torch.sigmoid(out).argmax(dim=1) == label.to(device))\n",
    "\n",
    "accuracy = accuracy/ len(test_loader.dataset)\n",
    "print(accuracy)"
   ]
  },
  {
   "cell_type": "code",
   "execution_count": null,
   "metadata": {},
   "outputs": [],
   "source": []
  }
 ],
 "metadata": {
  "kernelspec": {
   "display_name": ".venv",
   "language": "python",
   "name": "python3"
  },
  "language_info": {
   "codemirror_mode": {
    "name": "ipython",
    "version": 3
   },
   "file_extension": ".py",
   "mimetype": "text/x-python",
   "name": "python",
   "nbconvert_exporter": "python",
   "pygments_lexer": "ipython3",
   "version": "3.10.12"
  }
 },
 "nbformat": 4,
 "nbformat_minor": 2
}
